{
 "cells": [
  {
   "cell_type": "markdown",
   "metadata": {},
   "source": [
    "## A GUI to play ultimate tic tac toc \n",
    "## with a simple Monte Carlo bot"
   ]
  },
  {
   "cell_type": "code",
   "execution_count": 1,
   "metadata": {
    "collapsed": true
   },
   "outputs": [],
   "source": [
    "import Tkinter as tk\n",
    "from tkFont import Font\n",
    "#helv36 = tkFont.Font(family='Helvetica', size=24, weight=tkFont.BOLD)\n",
    "#frame = Frame(width=510, height=510, bg=\"\", colormap=\"new\")\n",
    "class GUI:\n",
    "    def __init__(self, game, bot):\n",
    "        self.bot = bot\n",
    "        self.bot.init_bot()\n",
    "        self.bot.myid = 1\n",
    "        #self.bot_pos = Position()\n",
    "        self.current_player = 0\n",
    "        self.app = tk.Tk()\n",
    "        self.game = game\n",
    "        self.game.init_game()\n",
    "        \n",
    "        self.title = 'Utilmate TicTacToe'\n",
    "        self.default_font = Font(family=\"Helvetica\", size=24)\n",
    "        self.button_dict = {}\n",
    "        self.current_player = 0\n",
    "        self.valid_button = set()\n",
    "        \n",
    "        if self.bot.myid == 0:\n",
    "            self.bot_move()   \n",
    "            \n",
    "    def initial_layout(self):\n",
    "        self.app.title('Ultimate TicTacToe')\n",
    "        self.app.resizable(width=False, height=False)        \n",
    "        self.app.geometry(\"510x510\")\n",
    "        for i in range(9):\n",
    "            for j in range(9):\n",
    "                btn = tk.Button(self.app, text = self.map_output(self.game.field[i,j]), font = self.default_font)\n",
    "                btn.place(x = 20 + i * 50 + (i / 3) * 10 , y = 20 + j * 50 + (j / 3) * 10 , width=50, height=50)\n",
    "                btn.bind(\"<Button-1>\", self.pressed)\n",
    "                self.button_dict[btn] = [(i, j)]\n",
    "                    \n",
    "        self.valid_button = self.button_dict.keys()\n",
    "        self.update_layout()\n",
    "    \n",
    "    def pressed(self, event):  \n",
    "        if not event.widget in self.valid_button:\n",
    "            return\n",
    "        \n",
    "        k = self.button_dict[event.widget][0]\n",
    "        self.make_move(k)\n",
    "        \n",
    "        if not self.game.finish:\n",
    "            self.bot_move()\n",
    "        \n",
    "        #board, macroboard = self.game.get_state()\n",
    "        #print macroboard\n",
    "        #for i in range(9):\n",
    "        #    print board.replace(',', '')[i * 9:(i+1) * 9]\n",
    "        #print '---'\n",
    "        \n",
    "    def bot_move(self):\n",
    "        self.app.config(cursor=\"watch\")\n",
    "        \n",
    "        board, macroboard = self.game.get_state()\n",
    "        \n",
    "        move = self.bot.get_move(board, macroboard)\n",
    "        self.make_move(move)\n",
    "        self.app.config(cursor=\"\")\n",
    "        \n",
    "    def make_move(self, move):\n",
    "        self.game.place_move(move)\n",
    "        self.update_valid_button()\n",
    "        self.update_layout()\n",
    "        self.current_player = self.game.current_player\n",
    "\n",
    "    def update_valid_button(self):\n",
    "        tmp = set()\n",
    "        #print self.game.valid_move\n",
    "        for btn, item in self.button_dict.items():\n",
    "            if item[0] in self.game.valid_move:\n",
    "                tmp.add(btn)\n",
    "                \n",
    "        self.valid_button = tmp\n",
    "        return\n",
    "        \n",
    "    def update_layout(self):\n",
    "        #print self.board.valid_board\n",
    "        #for item in self.board.field:\n",
    "        #    print item\n",
    "        \n",
    "        for btn, item in self.button_dict.items():\n",
    "            i, j = item[0]\n",
    "            btn['text'] = self.map_output(self.game.field[i,j])\n",
    "            if self.game.macroboard[i/3, j/3] == self.game.empty:\n",
    "                btn['disabledforeground'] = 'black'\n",
    "                btn['foreground'] = 'black'\n",
    "            elif self.game.macroboard[i/3, j/3] == self.game.symbol[0]:\n",
    "                btn['disabledforeground'] = 'red'\n",
    "                btn['foreground'] = 'red'\n",
    "            else:\n",
    "                btn['disabledforeground'] = 'blue'\n",
    "                btn['foreground'] = 'blue'\n",
    "                \n",
    "            if btn in self.valid_button:\n",
    "                btn['state'] = 'normal'\n",
    "                btn['background'] = '#a1dbcd'\n",
    "            else:\n",
    "                btn['state'] = 'disabled'\n",
    "                btn['background'] = 'AntiqueWhite3'\n",
    "        return\n",
    "    \n",
    "    def map_output(self, s):\n",
    "        #return s\n",
    "        if s == '0':\n",
    "            return ''\n",
    "        if s == '1':\n",
    "            return 'o'\n",
    "        if s == '2':\n",
    "            return 'x'\n",
    "        \n",
    "    def run(self):\n",
    "        self.initial_layout()\n",
    "        self.app.mainloop()\n",
    "    "
   ]
  },
  {
   "cell_type": "code",
   "execution_count": 2,
   "metadata": {
    "collapsed": true
   },
   "outputs": [],
   "source": [
    "from src.U3T_game import Game\n",
    "u3t_game = Game()\n",
    "\n",
    "#from src.position import Position\n",
    "from src.MC_bot import MC_bot\n",
    "\n",
    "uttt_game = Game()\n",
    "#dump_bot = Random_bot()\n",
    "gmm_bot = MC_bot()"
   ]
  },
  {
   "cell_type": "code",
   "execution_count": 3,
   "metadata": {
    "scrolled": true
   },
   "outputs": [
    {
     "name": "stdout",
     "output_type": "stream",
     "text": [
      "game finished\n",
      "winner: bot 1\n"
     ]
    }
   ],
   "source": [
    "GUI(uttt_game, gmm_bot).run()"
   ]
  },
  {
   "cell_type": "code",
   "execution_count": null,
   "metadata": {
    "collapsed": true
   },
   "outputs": [],
   "source": []
  }
 ],
 "metadata": {
  "anaconda-cloud": {},
  "kernelspec": {
   "display_name": "Python [default]",
   "language": "python",
   "name": "python2"
  },
  "language_info": {
   "codemirror_mode": {
    "name": "ipython",
    "version": 2
   },
   "file_extension": ".py",
   "mimetype": "text/x-python",
   "name": "python",
   "nbconvert_exporter": "python",
   "pygments_lexer": "ipython2",
   "version": "2.7.13"
  }
 },
 "nbformat": 4,
 "nbformat_minor": 1
}
