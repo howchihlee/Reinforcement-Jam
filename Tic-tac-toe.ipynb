{
 "cells": [
  {
   "cell_type": "markdown",
   "metadata": {},
   "source": [
    "## Set up a graph of the tic-toc-toe game."
   ]
  },
  {
   "cell_type": "code",
   "execution_count": 1,
   "metadata": {
    "collapsed": false
   },
   "outputs": [],
   "source": [
    "from collections import Counter\n",
    "import random \n",
    "## for checking if it's GG.\n",
    "line_up = [[0, 4, 8], [2, 4, 6], [0,1,2], [3,4,5], \n",
    "           [6,7,8], [0,3,6], [1,4,7], [2,5,8]]\n",
    "line_up = map(set, line_up)   \n",
    "\n",
    "class node:\n",
    "    def __init__(self, node_name):\n",
    "        self.val = node_name\n",
    "        self.winner = None\n",
    "        self.ch = []\n",
    "        self.probs = []\n",
    "        \n",
    "def print_sol(sol):\n",
    "    for i in range(3):\n",
    "        print sol[i * 3: (i+1) * 3]\n",
    "    print\n",
    "    \n",
    "def check_good_game(curr):\n",
    "    set0 = set([i for i in range(9) if curr[i] == 1])\n",
    "    set1 = set([i for i in range(9) if curr[i] == -1])    \n",
    "    gg = filter(lambda x: not x - set0, line_up) + filter(lambda x: not x - set1, line_up)\n",
    "    return len(gg) > 0\n",
    "\n",
    "def label_sol(a):\n",
    "    sol = ''\n",
    "    for i in a:\n",
    "        if i == 1:\n",
    "            sol += 'x'\n",
    "        elif i == -1:\n",
    "            sol += 'o'\n",
    "        else:\n",
    "            sol += '-'\n",
    "    return sol\n",
    "\n",
    "def print_result_stats(result):\n",
    "    print 'player 0: %d wins' % result[0]\n",
    "    print 'player 1: %d wins' % result[1]\n",
    "    print '%d ties' % result[None]\n",
    "    \n",
    "def process_sol(curr, state_str, tree):\n",
    "    if state_str not in tree:\n",
    "        tree[state_str] = node(state_str)\n",
    "    if item_str not in tree:\n",
    "        tree[item_str] = node(item_str)\n",
    "    tree[state_str].ch.append(tree[item_str])\n",
    "\n",
    "\n",
    "def construct_TicTacToc_game():    \n",
    "    que = [([0] * 9, 1)]\n",
    "    game_tree = {'---------':node('---------')}    \n",
    "    while que:\n",
    "        curr, turn = que.pop()\n",
    "        curr_label = label_sol(curr)\n",
    "        if not check_good_game(curr):\n",
    "            for i in range(9):\n",
    "                if curr[i] == 0:\n",
    "                    tmp = curr[:]\n",
    "                    tmp[i] = turn\n",
    "                    child_label = label_sol(tmp)\n",
    "                    if child_label not in game_tree:\n",
    "                        game_tree[child_label] = node(child_label)\n",
    "                        que.append((tmp[:], -1 * turn))\n",
    "                    game_tree[curr_label].ch.append(game_tree[child_label])\n",
    "\n",
    "        else:\n",
    "            game_tree[curr_label].winner = (1 + turn) / 2\n",
    "    return game_tree"
   ]
  },
  {
   "cell_type": "markdown",
   "metadata": {},
   "source": [
    "## a Tic-Tac-Toe object"
   ]
  },
  {
   "cell_type": "code",
   "execution_count": 2,
   "metadata": {
    "collapsed": true
   },
   "outputs": [],
   "source": [
    "class TicTacToe:\n",
    "    def __init__(self):\n",
    "        self.game_tree = construct_TicTacToc_game()\n",
    "        self.curr = self.game_tree['---------']\n",
    "        self.turn = 0\n",
    "        \n",
    "    def is_good_game(self):\n",
    "        ## check if the game's over\n",
    "        return len(self.curr.ch) == 0\n",
    "    \n",
    "    def new_game(self):\n",
    "        self.curr = self.game_tree['---------']\n",
    "        self.turn = 0\n",
    "        \n",
    "    def get_possible_moves(self):\n",
    "        ## output a list of legal moves \n",
    "        return  [item.val for item in self.curr.ch]\n",
    "    \n",
    "    def make_move(self, move):\n",
    "        ## update the current state according to a player's move\n",
    "        ## print out illegal move if the input is illegal\n",
    "        if move in [item.val for item in self.curr.ch]:\n",
    "            self.curr = self.game_tree[move]\n",
    "            self.turn = 1 - self.turn\n",
    "        else:\n",
    "            print 'illegal move'"
   ]
  },
  {
   "cell_type": "markdown",
   "metadata": {},
   "source": [
    "## The arnea of tic-tac-toe"
   ]
  },
  {
   "cell_type": "code",
   "execution_count": 3,
   "metadata": {
    "collapsed": false
   },
   "outputs": [],
   "source": [
    "def battle(game, players, num_games, trainning):\n",
    "    result = []\n",
    "    for iters in range(num_games):\n",
    "        game.new_game()\n",
    "        while not game.is_good_game():\n",
    "            ## make move\n",
    "            curr = players[game.turn].choice(game.get_possible_moves())\n",
    "            if trainning: ## update policy if trainning is allowed\n",
    "                players[game.turn].update_policy()\n",
    "            \n",
    "            ## update game    \n",
    "            game.make_move(curr)   \n",
    "        ## call game reward\n",
    "        if trainning and game.curr.winner in [0, 1]:\n",
    "            for i in range(2):\n",
    "                if i == game.curr.winner:\n",
    "                    players[i].reward(game.curr.val, 1.0)\n",
    "                else:\n",
    "                    players[i].reward(game.curr.val, -0.5)\n",
    "        result.append(game.curr.winner)\n",
    "        \n",
    "    return result"
   ]
  },
  {
   "cell_type": "markdown",
   "metadata": {},
   "source": [
    "## Initialize a game"
   ]
  },
  {
   "cell_type": "code",
   "execution_count": 4,
   "metadata": {
    "collapsed": false
   },
   "outputs": [],
   "source": [
    "ttt_game = TicTacToe()"
   ]
  },
  {
   "cell_type": "markdown",
   "metadata": {},
   "source": [
    "## Define a random player that chooses its move randomly.  This random player is so dumb that it doesn't even know how to win the tic-tac-toe game."
   ]
  },
  {
   "cell_type": "code",
   "execution_count": 5,
   "metadata": {
    "collapsed": false
   },
   "outputs": [],
   "source": [
    "class random_player:\n",
    "    def choice(self, moves):\n",
    "        return random.choice(moves) \n",
    "    def reward(self, curr, r):\n",
    "        return\n",
    "    def update_policy(self):\n",
    "        return\n",
    "    def new_game(self): \n",
    "        return"
   ]
  },
  {
   "cell_type": "markdown",
   "metadata": {},
   "source": [
    "## Let's play randomly"
   ]
  },
  {
   "cell_type": "code",
   "execution_count": 6,
   "metadata": {
    "collapsed": false
   },
   "outputs": [
    {
     "name": "stdout",
     "output_type": "stream",
     "text": [
      "player 0's move\n",
      "---\n",
      "---\n",
      "-x-\n",
      "\n",
      "player 1's move\n",
      "---\n",
      "--o\n",
      "-x-\n",
      "\n",
      "player 0's move\n",
      "---\n",
      "x-o\n",
      "-x-\n",
      "\n",
      "player 1's move\n",
      "---\n",
      "x-o\n",
      "-xo\n",
      "\n",
      "player 0's move\n",
      "---\n",
      "x-o\n",
      "xxo\n",
      "\n",
      "player 1's move\n",
      "o--\n",
      "x-o\n",
      "xxo\n",
      "\n",
      "player 0's move\n",
      "o-x\n",
      "x-o\n",
      "xxo\n",
      "\n",
      "player 1's move\n",
      "oox\n",
      "x-o\n",
      "xxo\n",
      "\n",
      "player 0's move\n",
      "oox\n",
      "xxo\n",
      "xxo\n",
      "\n",
      "winner is 0\n"
     ]
    }
   ],
   "source": [
    "ttt_game.new_game()\n",
    "players = [random_player(), random_player()]\n",
    "while not ttt_game.is_good_game():\n",
    "    print 'player %d\\'s move' % ttt_game.turn\n",
    "    curr = players[ttt_game.turn].choice(ttt_game.get_possible_moves())\n",
    "    ttt_game.make_move(curr)\n",
    "    print_sol(curr)\n",
    "    \n",
    "if ttt_game.curr.winner != None:\n",
    "    print 'winner is ' + str(ttt_game.curr.winner)\n",
    "else:\n",
    "    print 'tie'"
   ]
  },
  {
   "cell_type": "markdown",
   "metadata": {},
   "source": [
    "## Tic-toc-toe actually has the first-move advantage. The first-move player wins with 58% chance if both players play randomly."
   ]
  },
  {
   "cell_type": "code",
   "execution_count": 7,
   "metadata": {
    "collapsed": false
   },
   "outputs": [
    {
     "name": "stdout",
     "output_type": "stream",
     "text": [
      "player 0: 5873 wins\n",
      "player 1: 2851 wins\n",
      "1276 ties\n"
     ]
    }
   ],
   "source": [
    "players = [random_player(), random_player()]\n",
    "result = battle(ttt_game, players, 10000, False)\n",
    "print_result_stats(Counter(result))"
   ]
  },
  {
   "cell_type": "markdown",
   "metadata": {},
   "source": [
    "## Now let's define a player with a policy value function. This player maintain a value function for every possible state and chooses its move greedily according this function."
   ]
  },
  {
   "cell_type": "code",
   "execution_count": 8,
   "metadata": {
    "collapsed": false
   },
   "outputs": [],
   "source": [
    "class greedy_policy_player:\n",
    "    def __init__(self, all_states):\n",
    "        self.val_function = {item:0 for item in all_states}\n",
    "        self.last = '---------'\n",
    "        self.curr = '---------'\n",
    "        self.alpha = 0.01\n",
    "        self.epsilon = 0.1\n",
    "    def new_game(self):\n",
    "        self.last = '---------'\n",
    "        self.curr = '---------'\n",
    "        \n",
    "    def choice(self, moves):\n",
    "        self.last = self.curr\n",
    "        max_val = max([self.val_function[move] for move in moves])\n",
    "        self.curr = random.choice([move for move in moves if self.val_function[move] == max_val])\n",
    "        return self.curr\n",
    "    \n",
    "    def reward(self, curr, r):\n",
    "        self.val_function[curr] = r\n",
    "    \n",
    "    def update_policy(self):\n",
    "        self.val_function[self.last] += self.alpha * (self.val_function[self.curr] - self.val_function[self.last])"
   ]
  },
  {
   "cell_type": "markdown",
   "metadata": {},
   "source": [
    "## Initially, this greedy policy player knows nothing about the tic-toc-toe game. We expect it to game similarily as a random player does."
   ]
  },
  {
   "cell_type": "code",
   "execution_count": 9,
   "metadata": {
    "collapsed": false
   },
   "outputs": [
    {
     "name": "stdout",
     "output_type": "stream",
     "text": [
      "player 0: 5907 wins\n",
      "player 1: 2864 wins\n",
      "1229 ties\n"
     ]
    }
   ],
   "source": [
    "players = [greedy_policy_player(ttt_game.game_tree.keys()), random_player()]\n",
    "result = battle(ttt_game, players, 10000, False) ## False for no trainning at all\n",
    "print_result_stats(Counter(result))"
   ]
  },
  {
   "cell_type": "markdown",
   "metadata": {},
   "source": [
    "## To improve the policy of this greedy player, we let it play with a random player for 10000 games and evaluate its performance afterward. The value function is updated based on temporal-difference learning method. After trainning,  the first-move player's odds of winning is increased to ~80% when battling with a random player."
   ]
  },
  {
   "cell_type": "code",
   "execution_count": 11,
   "metadata": {
    "collapsed": false
   },
   "outputs": [
    {
     "name": "stdout",
     "output_type": "stream",
     "text": [
      "player 0: 7672 wins\n",
      "player 1: 1864 wins\n",
      "464 ties\n"
     ]
    }
   ],
   "source": [
    "players = [greedy_policy_player(ttt_game.game_tree.keys()), random_player()]\n",
    "battle(ttt_game, players, 10000, True) ## trainn the greedy player with 10000 games\n",
    "result = battle(ttt_game, players, 10000, False) ## test for 10000 games\n",
    "print_result_stats(Counter(result))"
   ]
  },
  {
   "cell_type": "markdown",
   "metadata": {},
   "source": [
    "## Now we define an epsilon greedy player that would spend some of its time to explore and search for better strategies during trainning"
   ]
  },
  {
   "cell_type": "code",
   "execution_count": 12,
   "metadata": {
    "collapsed": true
   },
   "outputs": [],
   "source": [
    "class epsilon_greedy_policy_player(greedy_policy_player):\n",
    "    def choice(self, moves):\n",
    "        self.last = self.curr\n",
    "        if random.uniform(0, 1) > self.epsilon: # exploitation\n",
    "            max_val = max([self.val_function[move] for move in moves])\n",
    "            self.curr = random.choice([move for move in moves if self.val_function[move] == max_val])\n",
    "        else: # exploration\n",
    "            self.curr = random.choice(moves) \n",
    "        return self.curr"
   ]
  },
  {
   "cell_type": "markdown",
   "metadata": {},
   "source": [
    "## The improved policy increases the first-move player's odds of winning increases to ~95% when battling with a random player."
   ]
  },
  {
   "cell_type": "code",
   "execution_count": 15,
   "metadata": {
    "collapsed": false
   },
   "outputs": [
    {
     "name": "stdout",
     "output_type": "stream",
     "text": [
      "player 0: 9291 wins\n",
      "player 1: 646 wins\n",
      "63 ties\n"
     ]
    }
   ],
   "source": [
    "players = [epsilon_greedy_policy_player(ttt_game.game_tree.keys()), random_player()]\n",
    "players[0].epsilon = 0.1\n",
    "battle(ttt_game, players, 100000, True) ## trainn the greedy player with 50000 games\n",
    "players[0].epsilon = 0.0\n",
    "result = battle(ttt_game, players, 10000, False) ## test for 10000 games\n",
    "print_result_stats(Counter(result))"
   ]
  },
  {
   "cell_type": "code",
   "execution_count": 15,
   "metadata": {
    "collapsed": false
   },
   "outputs": [
    {
     "name": "stdout",
     "output_type": "stream",
     "text": [
      "x-------- 0.569086315987\n",
      "-x------- 0.375200120525\n",
      "--x------ 0.673726390105\n",
      "---x----- 0.24139073387\n",
      "----x---- 0.653820182639\n",
      "-----x--- 0.584595992257\n",
      "------x-- 0.706494111114\n",
      "-------x- 0.72624736603\n",
      "--------x 0.897335921709\n"
     ]
    }
   ],
   "source": [
    "for i in range(9):\n",
    "    key = ['-'] * 9\n",
    "    key[i] = 'x'\n",
    "    key = ''.join(key)\n",
    "    print key, players[0].val_function[key]\n"
   ]
  },
  {
   "cell_type": "markdown",
   "metadata": {},
   "source": [
    "## For the sake of fun, let's train a epsilon greedy player and a greedy player (move first) and send them to the arena."
   ]
  },
  {
   "cell_type": "code",
   "execution_count": 17,
   "metadata": {
    "collapsed": false
   },
   "outputs": [
    {
     "name": "stdout",
     "output_type": "stream",
     "text": [
      "player 0: 1112 wins\n",
      "player 1: 8886 wins\n",
      "2 ties\n"
     ]
    }
   ],
   "source": [
    "player0 = greedy_policy_player(ttt_game.game_tree.keys())\n",
    "player1 = epsilon_greedy_policy_player(ttt_game.game_tree.keys())\n",
    "player2 = random_player()\n",
    "\n",
    "battle(ttt_game, [player0, player2], 100000, True) ## trainn the greedy player with 100000 games\n",
    "battle(ttt_game, [player2, player1], 100000, True) ## trainn the greedy player with 100000 games\n",
    "\n",
    "result = battle(ttt_game, [player0, player1], 10000, False) ## test for 10000 games\n",
    "print_result_stats(Counter(result))"
   ]
  },
  {
   "cell_type": "code",
   "execution_count": null,
   "metadata": {
    "collapsed": true
   },
   "outputs": [],
   "source": []
  },
  {
   "cell_type": "code",
   "execution_count": null,
   "metadata": {
    "collapsed": true
   },
   "outputs": [],
   "source": []
  }
 ],
 "metadata": {
  "kernelspec": {
   "display_name": "Python 2",
   "language": "python",
   "name": "python2"
  },
  "language_info": {
   "codemirror_mode": {
    "name": "ipython",
    "version": 2
   },
   "file_extension": ".py",
   "mimetype": "text/x-python",
   "name": "python",
   "nbconvert_exporter": "python",
   "pygments_lexer": "ipython2",
   "version": "2.7.11"
  }
 },
 "nbformat": 4,
 "nbformat_minor": 0
}
