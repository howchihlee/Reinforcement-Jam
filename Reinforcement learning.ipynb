{
 "cells": [
  {
   "cell_type": "code",
   "execution_count": 2,
   "metadata": {
    "collapsed": true
   },
   "outputs": [],
   "source": [
    "import random\n",
    "import numpy as np\n",
    "import matplotlib.pyplot as plt\n",
    "%matplotlib inline "
   ]
  },
  {
   "cell_type": "code",
   "execution_count": 3,
   "metadata": {
    "collapsed": false
   },
   "outputs": [],
   "source": [
    "import random\n",
    "import numpy as np\n",
    "\n",
    "def eps_greedy(Q0, N0, Ea, p_eps, max_iters):\n",
    "    Qa, N, Rt, iters = np.copy(Q0), np.copy(N0), [], 0\n",
    "    Rc = 0\n",
    "    while iters < max_iters:\n",
    "        if np.random.uniform(0, 1) > p_eps:\n",
    "            ind = np.argmax(Qa)\n",
    "        else:\n",
    "            ind = np.random.randint(0, Qa.shape[0])\n",
    "        R = np.random.normal(Ea[ind], 1)\n",
    "        N[ind] += 1\n",
    "        Qa[ind] += (R-Qa[ind]) / N[ind]\n",
    "        iters += 1\n",
    "        Rc += R\n",
    "        Rt.append(Rc / iters)\n",
    "    return Rt\n",
    "\n",
    "def UBC_eps_greedy(Q0, N0, Ea, p_eps, max_iters):\n",
    "    Qa, N, Rt, iters = np.copy(Q0), np.copy(N0), [], 0\n",
    "    Rc = 0\n",
    "    while iters < max_iters:\n",
    "        if np.any(N == 0):\n",
    "            ind = np.where(N == 0)[0][0]\n",
    "        elif np.random.uniform(0, 1) > p_eps:\n",
    "            ind = np.argmax(Qa + 3 * np.sqrt(np.log(iters)/ N))\n",
    "        else:\n",
    "            ind = np.random.randint(0, Qa.shape[0])\n",
    "        \n",
    "        R = np.random.normal(Ea[ind], 1)\n",
    "        N[ind] += 1\n",
    "        Qa[ind] += (R-Qa[ind]) / N[ind]\n",
    "        iters += 1\n",
    "        Rc += R\n",
    "        Rt.append(Rc / iters)\n",
    "    return Rt"
   ]
  },
  {
   "cell_type": "code",
   "execution_count": 5,
   "metadata": {
    "collapsed": false
   },
   "outputs": [
    {
     "data": {
      "image/png": "[encoded data removed]",
      "text/plain": [
       "<matplotlib.figure.Figure at 0xaee5ba8>"
      ]
     },
     "metadata": {},
     "output_type": "display_data"
    }
   ],
   "source": [
    "#Ea = [-0.5, 1.0, -0.7, 0.3, -0.3, -0.1, -0.6, 1.5, -1.2, -.3]\n",
    "Ea = np.random.normal(0, 1, 10)\n",
    "random.shuffle(Ea)\n",
    "\n",
    "Q0 = np.array([5 for i in range(len(Ea))]).astype('float')\n",
    "N0 = np.array([0 for i in range(len(Ea))]).astype('float')\n",
    "\n",
    "p_eps = [0.1, 0.01, 0.0]\n",
    "\n",
    "colors  = 'rgb'\n",
    "for i in range(3):\n",
    "    Rts = np.zeros((1000, 200))\n",
    "    for repeats in range(1):\n",
    "        Rts[:, repeats] = np.array(eps_greedy(Q0, N0, Ea, p_eps[i], 1000))\n",
    "    plt.plot(np.mean(Rts, axis = 1), color = colors[i])\n",
    "plt.show()"
   ]
  },
  {
   "cell_type": "code",
   "execution_count": 61,
   "metadata": {
    "collapsed": false
   },
   "outputs": [
    {
     "data": {
      "text/plain": [
       "0"
      ]
     },
     "execution_count": 61,
     "metadata": {},
     "output_type": "execute_result"
    }
   ],
   "source": [
    "np.where(np.array([0,1,0]) == 0)[0][0]"
   ]
  },
  {
   "cell_type": "code",
   "execution_count": null,
   "metadata": {
    "collapsed": true
   },
   "outputs": [],
   "source": []
  },
  {
   "cell_type": "code",
   "execution_count": null,
   "metadata": {
    "collapsed": true
   },
   "outputs": [],
   "source": []
  }
 ],
 "metadata": {
  "kernelspec": {
   "display_name": "Python 2",
   "language": "python",
   "name": "python2"
  },
  "language_info": {
   "codemirror_mode": {
    "name": "ipython",
    "version": 2
   },
   "file_extension": ".py",
   "mimetype": "text/x-python",
   "name": "python",
   "nbconvert_exporter": "python",
   "pygments_lexer": "ipython2",
   "version": "2.7.11"
  }
 },
 "nbformat": 4,
 "nbformat_minor": 0
}
